{
  "nbformat": 4,
  "nbformat_minor": 0,
  "metadata": {
    "colab": {
      "name": "Projeto Detetive.ipynb",
      "provenance": [],
      "collapsed_sections": []
    },
    "kernelspec": {
      "name": "python3",
      "display_name": "Python 3"
    },
    "language_info": {
      "name": "python"
    }
  },
  "cells": [
    {
      "cell_type": "markdown",
      "metadata": {
        "id": "aOxrUyjDJ6xH"
      },
      "source": [
        "**Projeto 01 – Detetive**\n",
        "\n",
        "Perguntas:\n",
        "\n",
        "• \"Você telefonou para a vítima?\"\n",
        "• \" Você esteve no local do crime?\"\n",
        "• \" Você mora perto da vítima?\"\n",
        "• \" Você devia para a vítima?\"\n",
        "• \" Você já trabalhou com a vítima?\""
      ]
    },
    {
      "cell_type": "code",
      "metadata": {
        "colab": {
          "base_uri": "https://localhost:8080/"
        },
        "id": "pWyjVA3nKQSV",
        "outputId": "a86941dd-9247-4a30-eba6-f7f11f3ee2e0"
      },
      "source": [
        "print (\"Desafio do Detetive\")\n",
        "print ()\n",
        "nome_suspeito = input (\"Diga seu nome para começar o interrogatório:\")\n",
        "print (\"Muito bem \", nome_suspeito.title(), \"vamos começar!\")\n",
        "print()\n",
        "pergunta1 = input (\"Você telefonou para a vítima?\\n S/N: \").strip().capitalize().replace('a','ã')\n",
        "if pergunta1 == \"Sim\":\n",
        "  resp1 = 1\n",
        "else:\n",
        "  resp1 = 0\n",
        "\n",
        "pergunta2 = input (\"Você esteve no local do crime? \\n S/N: \").strip().capitalize().replace('a','ã')\n",
        "if pergunta2 == \"Sim\":\n",
        "  resp2 = 1\n",
        "else:\n",
        "  resp2 = 0\n",
        "\n",
        "pergunta3 = input (\"Você mora perto da vítima? \\n S/N: \").strip().capitalize().replace('a','ã')\n",
        "if pergunta3 == \"Sim\":\n",
        "  resp3 = 1\n",
        "else:\n",
        "  resp3 = 0\n",
        "\n",
        "pergunta4 = input (\"Você devia para a vítima? \\n S/N: \").strip().capitalize().replace('a','ã')\n",
        "if pergunta4 == \"Sim\":\n",
        "  resp4 = 1\n",
        "else:\n",
        "  resp4 = 0\n",
        "\n",
        "pergunta5 = input (\"Você já trabalhou com a vítima? \\n S/N: \").strip().capitalize().replace('a','ã')\n",
        "if pergunta5 == \"Sim\":\n",
        "  resp5 = 1\n",
        "else:\n",
        "  resp5 = 0\n",
        "\n",
        "soma = resp1 + resp2 + resp3 + resp4 + resp5\n",
        "print()\n",
        "\n",
        "if soma <= 1:\n",
        "  print (\"Você é inocente e está livre!\")\n",
        "elif soma == 2:\n",
        "    print (\"Você é um suspeito dessa investigação. Não saia da cidade!\")\n",
        "elif soma == 3 or soma == 4:\n",
        "    print (\"Você é cúmplice do crime. Entregue o assassino para reduzir sua pena!\")\n",
        "else:\n",
        "  print (\"Você é o culpado e está preso!\")\n",
        "\n",
        "print ()\n",
        "print (\"Fim da investigação!\")\n",
        "\n",
        "\n"
      ],
      "execution_count": 12,
      "outputs": [
        {
          "output_type": "stream",
          "text": [
            "Desafio do Detetive\n",
            "\n",
            "Diga seu nome para começar o interrogatório:ana\n",
            "Muito bem  Ana vamos começar!\n",
            "\n",
            "Você telefonou para a vítima?\n",
            " S/N: sim\n",
            "Você esteve no local do crime? \n",
            " S/N: sim\n",
            "Você mora perto da vítima? \n",
            " S/N: nao\n",
            "Você devia para a vítima? \n",
            " S/N: nao\n",
            "Você já trabalhou com a vítima? \n",
            " S/N: Não\n",
            "\n",
            "Você é um suspeito dessa investigação. Não saia da cidade!\n",
            "\n",
            "Fim da investigação!\n"
          ],
          "name": "stdout"
        }
      ]
    }
  ]
}